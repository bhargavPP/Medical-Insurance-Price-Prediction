{
 "cells": [
  {
   "cell_type": "code",
   "execution_count": 27,
   "id": "39efb693-56b3-4c23-bbaa-89cdae25b665",
   "metadata": {},
   "outputs": [],
   "source": [
    "#%pip install seaborn\n",
    "import pandas as pd\n",
    "import numpy as np\n",
    "import seaborn as sns\n",
    "import matplotlib.pyplot as plt\n",
    "from sklearn.linear_model import LinearRegression,Ridge\n",
    "from sklearn.preprocessing import StandardScaler,PolynomialFeatures\n",
    "from sklearn.pipeline import Pipeline\n",
    "from sklearn.metrics import r2_score\n",
    "from sklearn.model_selection import train_test_split,cross_val_score\n",
    "import warnings\n",
    "\n"
   ]
  },
  {
   "cell_type": "code",
   "execution_count": 48,
   "id": "8a81a0e8-2459-4168-ba91-bdc9d3ef2cec",
   "metadata": {
    "scrolled": true
   },
   "outputs": [
    {
     "name": "stderr",
     "output_type": "stream",
     "text": [
      "C:\\Users\\HP\\AppData\\Local\\Temp\\ipykernel_776\\4059212745.py:51: UserWarning: set_ticklabels() should only be used with a fixed number of ticks, i.e. after set_ticks() or using a FixedLocator.\n",
      "  smoke_charge_box.set_xticklabels(new_labels)\n"
     ]
    },
    {
     "data": {
      "text/plain": [
       "0.8410037679926488"
      ]
     },
     "execution_count": 48,
     "metadata": {},
     "output_type": "execute_result"
    },
    {
     "data": {
      "image/png": "[encoded data removed]",
      "text/plain": [
       "<Figure size 640x480 with 1 Axes>"
      ]
     },
     "metadata": {},
     "output_type": "display_data"
    }
   ],
   "source": [
    "path='D:/NPower Manitoba/7.Data ANalysis with Python/Activity-project/medical_insurance_dataset.csv'\n",
    "\n",
    "df=pd.read_csv(path,header=None)\n",
    "\n",
    "df.columns=[\"age\", \"gender\", \"bmi\", \"no_of_children\", \"smoker\", \"region\", \"charges\"]\n",
    "df.replace('?',np.nan,inplace=True)\n",
    "\n",
    "df.head(10)\n",
    "\n",
    "# find all the indexes where age is NaN so we can check if it's replaced later\n",
    "age_nans = df[np.isnan(df[\"age\"].astype(float))].index\n",
    "# get the mean for age\n",
    "age_mean = round(df[\"age\"].astype(float).mean())\n",
    "# replace the missing ages with the average\n",
    "df[\"age\"] = df[\"age\"].replace(np.nan, age_mean)\n",
    "# change age to int since it won't have decimal values \n",
    "df[\"age\"] = df[\"age\"].astype(int)\n",
    "# check the missing values\n",
    "df[\"age\"].iloc[age_nans]\n",
    "\n",
    "\n",
    "# find all the indexes where smoker is NaN so we can check if it's replaced later\n",
    "smoke_nans = df[np.isnan(df[\"smoker\"].astype(float))].index\n",
    "# get the mode for smoker\n",
    "smoke_mode = df[\"smoker\"].value_counts().idxmax()\n",
    "# replace the missing smoker values with the mode\n",
    "df[\"smoker\"] = df[\"smoker\"].replace(np.nan, smoke_mode)\n",
    "# change smoker to int since it won't have decimal values \n",
    "df[\"smoker\"] = df[\"smoker\"].astype(int)\n",
    "# check the missing values\n",
    "df[\"smoker\"].iloc[smoke_nans]\n",
    "\n",
    "df[\"charges\"]=df[\"charges\"].round(2)\n",
    "df.head(10)\n",
    "\n",
    "\n",
    "#EDA\n",
    "#Implement the regression plot for charges with respect to bmi.\n",
    "sns.regplot(x='bmi',y='charges',data=df,line_kws={\"color\":\"red\"})\n",
    "plt.ylim(0,)\n",
    "\n",
    "#Implement the box plot for charges with respect to smoker.\n",
    "\n",
    "# plot the chart\n",
    "smoke_charge_box = sns.boxplot(x=\"smoker\", y=\"charges\", data=df)\n",
    "# get the current labels\n",
    "x_labels = smoke_charge_box.get_xticklabels()\n",
    "# change the current label if 1 to Smoker else to non-smoker\n",
    "new_labels = [\"Smoker\" if label.get_text() == \"1\" else \"Non-smoker\" for label in x_labels]\n",
    "# set the new labels to the chart\n",
    "smoke_charge_box.set_xticklabels(new_labels)\n",
    "\n",
    "df.corr()\n",
    "\n",
    "# -1 indicates a perfectly negative linear correlation between two variables\n",
    "# 0 indicates no linear correlation between two variables\n",
    "# 1 indicates a perfectly positive linear correlation between two variables\n",
    "\n",
    "\n",
    "#Model Development\n",
    "#Fit a linear regression model that may be used to predict the charges value, just by using the smoker attribute of the dataset. Print the  R2  score of this model.\n",
    "\n",
    "\n",
    "lm=LinearRegression()\n",
    "Y=df[\"charges\"]\n",
    "X=df[[\"smoker\"]]\n",
    "lm.fit(X,Y)\n",
    "lm.score(X,Y)\n",
    "\n",
    "Z=df.drop(\"charges\",axis=1)\n",
    "lm.fit(Z,Y)\n",
    "lm.score(Z,Y)\n",
    "\n",
    "# Create a training pipeline that uses StandardScaler(), PolynomialFeatures() and LinearRegression() to create a model that can predict the charges value using all the other attributes of the dataset. There should be even further improvement in the performance.\n",
    "Input=[('scale', StandardScaler()), ('polynomial', PolynomialFeatures(degree=2)), ('model',LinearRegression())]\n",
    "pipe = Pipeline(Input)\n",
    "pipe.fit(Z, Y)\n",
    "pipe.score(Z, Y)\n",
    "\n",
    "# Model Refinement\n",
    "\n",
    "#Split the data into training and testing subsets, assuming that 20% of the data will be reserved for testing.\n",
    "x_train, x_test, y_train, y_test = train_test_split(Z, Y, test_size=0.2, random_state=0)\n",
    "\n",
    "#Initialize a Ridge regressor that used hyperparameter  α=0.1 . Fit the model using training data data subset. Print the  R2  score for the testing data.\n",
    "rm = Ridge(alpha=0.1)\n",
    "rm.fit(x_train, y_train)\n",
    "rm.score(x_test, y_test)\n",
    "\n",
    "\n",
    "#Apply polynomial transformation to the training parameters with degree=2. Use this transformed feature set to fit the same regression model, as above, using the training subset. Print the  R2  score for the testing subset.\n",
    "\n",
    "pf=PolynomialFeatures(degree=2, include_bias=False)\n",
    "x_train_poly=pf.fit_transform(x_train)\n",
    "x_test_poly=pf.fit_transform(x_test)\n",
    "rm.fit(x_train_poly, y_train)\n",
    "rm.score(x_test_poly, y_test)"
   ]
  },
  {
   "cell_type": "code",
   "execution_count": null,
   "id": "abe43841-5459-4ea0-a8fa-e74312542185",
   "metadata": {
    "jupyter": {
     "source_hidden": true
    }
   },
   "outputs": [],
   "source": []
  },
  {
   "cell_type": "code",
   "execution_count": null,
   "id": "b0d6604e-e533-4fb2-8212-9abbf0b41be9",
   "metadata": {},
   "outputs": [],
   "source": []
  }
 ],
 "metadata": {
  "kernelspec": {
   "display_name": "Python 3 (ipykernel)",
   "language": "python",
   "name": "python3"
  },
  "language_info": {
   "codemirror_mode": {
    "name": "ipython",
    "version": 3
   },
   "file_extension": ".py",
   "mimetype": "text/x-python",
   "name": "python",
   "nbconvert_exporter": "python",
   "pygments_lexer": "ipython3",
   "version": "3.12.7"
  }
 },
 "nbformat": 4,
 "nbformat_minor": 5
}
